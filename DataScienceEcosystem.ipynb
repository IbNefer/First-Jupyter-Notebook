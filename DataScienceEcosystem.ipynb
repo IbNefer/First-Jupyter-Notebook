{
 "cells": [
  {
   "cell_type": "markdown",
   "id": "ef8bd51d-c1dd-49e8-8ee1-0b4afcce1ecc",
   "metadata": {},
   "source": [
    "# Data science tools and ecosystem."
   ]
  },
  {
   "cell_type": "markdown",
   "id": "2fd3ba3c-a689-4961-857d-09091faa3e1a",
   "metadata": {},
   "source": [
    "**Objectives:**\n",
    "* List popular languages for Data Science.\n",
    "* List data science libraries.\n",
    "* List Data Science tools.\n",
    "* Multiply and add numbers in python."
   ]
  },
  {
   "cell_type": "markdown",
   "id": "fc7d4b64-330f-404b-924b-69fe82d5426e",
   "metadata": {},
   "source": [
    "In this notebook, Data Science Tools and Ecosystem are summarized."
   ]
  },
  {
   "cell_type": "markdown",
   "id": "70d0878e-9c54-4e0f-93bf-0d8567b1bd12",
   "metadata": {},
   "source": [
    "Some of the popular languages Data scientists use are:\n",
    "1. Python\n",
    "2. R\n",
    "3. Java\n",
    "4. Scala\n",
    "5. C++"
   ]
  },
  {
   "cell_type": "markdown",
   "id": "59697b88-ce1a-45a5-8def-ef1b7fece13a",
   "metadata": {},
   "source": [
    "Some of the commonly used libraries used by Data Scientists include:\n",
    "+ Numpy\n",
    "+ Pada\n",
    "+ dyplr\n",
    "+ TensorFlow"
   ]
  },
  {
   "cell_type": "markdown",
   "id": "1431dbbe-8d6e-4f6f-91aa-ff9eef8598d4",
   "metadata": {},
   "source": [
    "|Data Science Tools|\n",
    "|------------------|\n",
    "|Jupyter Notebooks|\n",
    "|Anaconda|\n",
    "|Rstudio|"
   ]
  },
  {
   "cell_type": "markdown",
   "id": "e2a46e95-cda4-4e4a-98df-6f83a9bdb42d",
   "metadata": {},
   "source": [
    "# Below are a few examples of evaluating arithmetic expressions in Python."
   ]
  },
  {
   "cell_type": "code",
   "execution_count": 3,
   "id": "5807d191-a8c2-467c-b688-db820bfd3fb1",
   "metadata": {},
   "outputs": [
    {
     "name": "stdout",
     "output_type": "stream",
     "text": [
      "17\n"
     ]
    }
   ],
   "source": [
    "# This is a simple arithmetic expression to mutiply then add integers.\n",
    "print ((3*4)+5)"
   ]
  },
  {
   "cell_type": "code",
   "execution_count": 4,
   "id": "4f97f1a4-fe93-4115-8038-52bf9dae00e0",
   "metadata": {},
   "outputs": [
    {
     "name": "stdout",
     "output_type": "stream",
     "text": [
      "3.3333333333333335\n"
     ]
    }
   ],
   "source": [
    "# This will convert 200 minutes to hours by diving by 60.\n",
    "print (200/60)"
   ]
  },
  {
   "cell_type": "code",
   "execution_count": null,
   "id": "6668c3ca-2f7b-450b-a3cb-3d7af8aec874",
   "metadata": {},
   "outputs": [],
   "source": [
    "## Author:\n",
    "   Alessandro Three Alcime"
   ]
  }
 ],
 "metadata": {
  "kernelspec": {
   "display_name": "Python 3 (ipykernel)",
   "language": "python",
   "name": "python3"
  },
  "language_info": {
   "codemirror_mode": {
    "name": "ipython",
    "version": 3
   },
   "file_extension": ".py",
   "mimetype": "text/x-python",
   "name": "python",
   "nbconvert_exporter": "python",
   "pygments_lexer": "ipython3",
   "version": "3.12.4"
  }
 },
 "nbformat": 4,
 "nbformat_minor": 5
}
